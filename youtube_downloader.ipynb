{
  "nbformat": 4,
  "nbformat_minor": 0,
  "metadata": {
    "colab": {
      "provenance": []
    },
    "kernelspec": {
      "name": "python3",
      "display_name": "Python 3"
    },
    "language_info": {
      "name": "python"
    }
  },
  "cells": [
    {
      "cell_type": "code",
      "source": [
        "pip install git+https://github.com/pishiko/pytube.git@42a7d8322dd7749a9e950baf6860d115bbeaedfc"
      ],
      "metadata": {
        "id": "jrHs804goVll"
      },
      "execution_count": null,
      "outputs": []
    },
    {
      "cell_type": "code",
      "source": [
        "pip install ffmpeg"
      ],
      "metadata": {
        "id": "jfc2rO-CZ70O"
      },
      "execution_count": null,
      "outputs": []
    },
    {
      "cell_type": "code",
      "execution_count": null,
      "metadata": {
        "id": "mx0MoP6cNFzf"
      },
      "outputs": [],
      "source": [
        "from pytube import YouTube\n",
        "from pytube import Channel\n",
        "import os\n",
        "import re\n",
        "import datetime\n",
        "import csv\n",
        "import pandas as pd\n",
        "import time"
      ]
    },
    {
      "cell_type": "code",
      "source": [
        "from urllib.error import HTTPError\n",
        "def download(link, path, last_run_date):\n",
        "\n",
        "  within_timeframe = True\n",
        "\n",
        "  video = YouTube(link)\n",
        "  try:\n",
        "      print(video.check_availability())\n",
        "      print(video.title())\n",
        "      if video.length > 300:\n",
        "        print(\"video too long (probably not a beat)\")\n",
        "        return within_timeframe\n",
        "\n",
        "      if video.publish_date < last_run_date:\n",
        "        print(\"no new beats\")\n",
        "        within_timeframe = False\n",
        "        return within_timeframe\n",
        "\n",
        "      bpm_search = re.search(r'(?i)\\b(?:BPM|bpm)[:\\s]?\\s*(\\d{2,3})\\b|\\b(\\d{2,3})\\s?BPM\\b', video.description)\n",
        "      if bpm_search:\n",
        "        bpm = bpm_search.group(1) or bpm_search.group(2)\n",
        "\n",
        "        audio_track = video.streams.filter(only_audio=True).first()\n",
        "        mp4_file = audio_track.download(output_path=path)\n",
        "        file_name = audio_track.default_filename\n",
        "\n",
        "        source = path + file_name\n",
        "        os.rename(source, source.replace(' ', '_'))\n",
        "        file_name = source.replace(' ','_')\n",
        "        file_without_ext, ext = os.path.splitext(file_name)\n",
        "        file_without_ext += \"---\"+bpm+\"-bpm\"\n",
        "\n",
        "        command = f\"ffmpeg -i {file_name} {file_without_ext}.mp3\"\n",
        "\n",
        "        os.system(command)\n",
        "        os.remove(file_name)\n",
        "\n",
        "\n",
        "      else:\n",
        "        print('could not find bpm')\n",
        "      return within_timeframe\n",
        "\n",
        "  except TypeError as te:\n",
        "    print('type error', te)\n",
        "    return False\n",
        "  except HTTPError as err:\n",
        "    if err.code == 429:\n",
        "      print('rate limited :/ pls abort')\n",
        "      return False\n",
        "    else:\n",
        "      print('http error', err)\n",
        "      return False"
      ],
      "metadata": {
        "id": "4gObIvbTsC3E"
      },
      "execution_count": null,
      "outputs": []
    },
    {
      "cell_type": "code",
      "source": [
        "path = '/content/'\n",
        "link_base = 'https://www.youtube.com/channel/'\n",
        "\n",
        "df = pd.read_csv('/content/ytdownloader_channels.csv', header=None)\n",
        "df.dropna(inplace=True)\n",
        "csv_date = datetime.datetime.strptime(df[1][0], '(%Y, %m, %d, %H, %M, %S, %f)')\n",
        "last_run_date = max(csv_date, datetime.datetime.now() - datetime.timedelta(days=7))\n",
        "\n",
        "count = 0\n",
        "for i in range(1,len(df)):\n",
        "  print(\"producer {}/{}, {}\".format(i, len(df)-1, df[0][i]))\n",
        "  channel_link = link_base + df[1][i]\n",
        "  c = Channel(channel_link)\n",
        "  for url in c.video_urls:\n",
        "    valid = download(url,path,last_run_date)\n",
        "    if valid:\n",
        "      count += 1\n",
        "    else:\n",
        "      break\n",
        "\n",
        "    print(url)\n",
        "\n",
        "df[1][0] = datetime.datetime.now().strftime('(%Y, %m, %d, %H, %M, %S, %f)')\n",
        "df.to_csv(path+'/ytdownloader_channels.csv', index=False, header=False)\n",
        "print('{} beats downloaded'.format(count))"
      ],
      "metadata": {
        "id": "1HS2CucIrxNL"
      },
      "execution_count": null,
      "outputs": []
    },
    {
      "cell_type": "markdown",
      "source": [
        "# notes for reference"
      ],
      "metadata": {
        "id": "5RZTe0Vew4Ad"
      }
    },
    {
      "cell_type": "code",
      "source": [
        "substring = \"150BPM, bpm: 78, BPM: 148, BPM:105, Bpm: 130, BPM:  146, 190 BPM, 160 bpm, 143bpm\"\n",
        "matches = re.finditer(r'(?i)\\b(?:BPM|bpm)[:\\s]?\\s*(\\d{2,3})\\b|\\b(\\d{2,3})\\s?BPM\\b', substring)\n",
        "for match in matches:\n",
        "    print(match.group(1) or match.group(2))"
      ],
      "metadata": {
        "id": "sr8VTQdEw58g"
      },
      "execution_count": null,
      "outputs": []
    },
    {
      "cell_type": "markdown",
      "source": [
        "To get channel IDs:\n",
        "\n",
        "https://yt.lemnoslife.com/channels?handle=farberbeats\n",
        "\n",
        "could also read in one video and then do video.channel_id for the rest"
      ],
      "metadata": {
        "id": "Hnlwrtq8w9cH"
      }
    }
  ]
}